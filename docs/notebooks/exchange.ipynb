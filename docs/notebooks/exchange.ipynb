{
 "cells": [
  {
   "cell_type": "code",
   "execution_count": 3,
   "metadata": {},
   "outputs": [
    {
     "name": "stdout",
     "output_type": "stream",
     "text": [
      "['__abstract__', '__class__', '__delattr__', '__dict__', '__dir__', '__doc__', '__eq__', '__format__', '__ge__', '__getattribute__', '__gt__', '__hash__', '__init__', '__init_subclass__', '__le__', '__lt__', '__mapper__', '__module__', '__ne__', '__new__', '__reduce__', '__reduce_ex__', '__repr__', '__setattr__', '__sizeof__', '__str__', '__subclasshook__', '__table__', '__tablename__', '__weakref__', '_password', '_sa_class_manager', '_sa_registry', 'address', 'api_keys', 'as_dict', 'created_at', 'currency_pair_configs', 'dob', 'email', 'first_name', 'get_id', 'id', 'is_active', 'is_admin', 'is_anonymous', 'is_authenticated', 'is_verified', 'last_name', 'metadata', 'orders', 'password', 'phone', 'portfolio', 'registry', 'roles', 'settings', 'updated_at', 'username']\n",
      "['__abstract__', '__class__', '__delattr__', '__dict__', '__dir__', '__doc__', '__eq__', '__format__', '__ge__', '__getattribute__', '__gt__', '__hash__', '__init__', '__init_subclass__', '__le__', '__lt__', '__mapper__', '__module__', '__ne__', '__new__', '__reduce__', '__reduce_ex__', '__repr__', '__setattr__', '__sizeof__', '__str__', '__subclasshook__', '__table__', '__tablename__', '__weakref__', '_password', '_sa_class_manager', '_sa_registry', 'address', 'api_keys', 'as_dict', 'created_at', 'currency_pair_configs', 'dob', 'email', 'first_name', 'id', 'is_active', 'is_admin', 'is_verified', 'last_name', 'metadata', 'orders', 'phone', 'portfolio', 'registry', 'roles', 'settings', 'updated_at', 'username']\n"
     ]
    }
   ],
   "source": [
    "import sys\n",
    "sys.path.append('../../')\n",
    "\n",
    "from api.model import UserModel\n",
    "from cryptolib.model import UserModel as UserModel2\n",
    "\n",
    "print(dir(UserModel))\n",
    "print(dir(UserModel2))"
   ]
  }
 ],
 "metadata": {
  "kernelspec": {
   "display_name": "Python 3",
   "language": "python",
   "name": "python3"
  },
  "language_info": {
   "codemirror_mode": {
    "name": "ipython",
    "version": 3
   },
   "file_extension": ".py",
   "mimetype": "text/x-python",
   "name": "python",
   "nbconvert_exporter": "python",
   "pygments_lexer": "ipython3",
   "version": "3.9.16"
  },
  "orig_nbformat": 4
 },
 "nbformat": 4,
 "nbformat_minor": 2
}
