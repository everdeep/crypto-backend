{
 "cells": [
  {
   "cell_type": "code",
   "execution_count": 1,
   "metadata": {},
   "outputs": [
    {
     "ename": "RuntimeError",
     "evalue": "Working outside of application context.\n\nThis typically means that you attempted to use functionality that needed\nthe current application. To solve this, set up an application context\nwith app.app_context(). See the documentation for more information.",
     "output_type": "error",
     "traceback": [
      "\u001b[0;31m---------------------------------------------------------------------------\u001b[0m",
      "\u001b[0;31mRuntimeError\u001b[0m                              Traceback (most recent call last)",
      "Cell \u001b[0;32mIn[1], line 12\u001b[0m\n\u001b[1;32m      8\u001b[0m binance\u001b[39m.\u001b[39mget_symbol_ticker(\u001b[39m'\u001b[39m\u001b[39mBTCUSDT\u001b[39m\u001b[39m'\u001b[39m)\n\u001b[1;32m     10\u001b[0m \u001b[39mfrom\u001b[39;00m \u001b[39mapi\u001b[39;00m\u001b[39m.\u001b[39;00m\u001b[39mservice\u001b[39;00m \u001b[39mimport\u001b[39;00m PortfolioService\n\u001b[0;32m---> 12\u001b[0m PortfolioService()\u001b[39m.\u001b[39;49mget_earnings(\u001b[39m1\u001b[39;49m)\n",
      "File \u001b[0;32m~/projects/cryptobot/server/api/service/portfolio.py:10\u001b[0m, in \u001b[0;36mPortfolioService.get_earnings\u001b[0;34m(self, user_id)\u001b[0m\n\u001b[1;32m      8\u001b[0m \u001b[39mdef\u001b[39;00m \u001b[39mget_earnings\u001b[39m(\u001b[39mself\u001b[39m, user_id):\n\u001b[1;32m      9\u001b[0m \u001b[39m    \u001b[39m\u001b[39m\"\"\" Returns the earnings of the user \"\"\"\u001b[39;00m\n\u001b[0;32m---> 10\u001b[0m     balances \u001b[39m=\u001b[39m DataService()\u001b[39m.\u001b[39;49mget_balances(user_id)\n\u001b[1;32m     11\u001b[0m     orders \u001b[39m=\u001b[39m DataService()\u001b[39m.\u001b[39mget_orders(user_id)\n\u001b[1;32m     12\u001b[0m     exchange \u001b[39m=\u001b[39m Binance()\n",
      "File \u001b[0;32m~/projects/cryptobot/server/api/service/data.py:36\u001b[0m, in \u001b[0;36mDataService.get_balances\u001b[0;34m(self, portfolio_id)\u001b[0m\n\u001b[1;32m     34\u001b[0m \u001b[39mdef\u001b[39;00m \u001b[39mget_balances\u001b[39m(\u001b[39mself\u001b[39m, portfolio_id):\n\u001b[1;32m     35\u001b[0m \u001b[39m    \u001b[39m\u001b[39m\"\"\"Returns all balances for a user\"\"\"\u001b[39;00m\n\u001b[0;32m---> 36\u001b[0m     \u001b[39mreturn\u001b[39;00m BalanceModel\u001b[39m.\u001b[39;49mquery\u001b[39m.\u001b[39mfilter_by(portfolio_id\u001b[39m=\u001b[39mportfolio_id)\u001b[39m.\u001b[39mall()\n",
      "File \u001b[0;32m~/projects/cryptobot/server/venv/lib/python3.9/site-packages/flask_sqlalchemy/model.py:31\u001b[0m, in \u001b[0;36m_QueryProperty.__get__\u001b[0;34m(self, obj, cls)\u001b[0m\n\u001b[1;32m     29\u001b[0m \u001b[39mdef\u001b[39;00m \u001b[39m__get__\u001b[39m(\u001b[39mself\u001b[39m, obj: Model \u001b[39m|\u001b[39m \u001b[39mNone\u001b[39;00m, \u001b[39mcls\u001b[39m: \u001b[39mtype\u001b[39m[Model]) \u001b[39m-\u001b[39m\u001b[39m>\u001b[39m Query:\n\u001b[1;32m     30\u001b[0m     \u001b[39mreturn\u001b[39;00m \u001b[39mcls\u001b[39m\u001b[39m.\u001b[39mquery_class(\n\u001b[0;32m---> 31\u001b[0m         \u001b[39mcls\u001b[39m, session\u001b[39m=\u001b[39m\u001b[39mcls\u001b[39;49m\u001b[39m.\u001b[39;49m__fsa__\u001b[39m.\u001b[39;49msession()  \u001b[39m# type: ignore[arg-type]\u001b[39;00m\n\u001b[1;32m     32\u001b[0m     )\n",
      "File \u001b[0;32m~/projects/cryptobot/server/venv/lib/python3.9/site-packages/sqlalchemy/orm/scoping.py:211\u001b[0m, in \u001b[0;36mscoped_session.__call__\u001b[0;34m(self, **kw)\u001b[0m\n\u001b[1;32m    209\u001b[0m         \u001b[39mself\u001b[39m\u001b[39m.\u001b[39mregistry\u001b[39m.\u001b[39mset(sess)\n\u001b[1;32m    210\u001b[0m \u001b[39melse\u001b[39;00m:\n\u001b[0;32m--> 211\u001b[0m     sess \u001b[39m=\u001b[39m \u001b[39mself\u001b[39;49m\u001b[39m.\u001b[39;49mregistry()\n\u001b[1;32m    212\u001b[0m \u001b[39mif\u001b[39;00m \u001b[39mnot\u001b[39;00m \u001b[39mself\u001b[39m\u001b[39m.\u001b[39m_support_async \u001b[39mand\u001b[39;00m sess\u001b[39m.\u001b[39m_is_asyncio:\n\u001b[1;32m    213\u001b[0m     warn_deprecated(\n\u001b[1;32m    214\u001b[0m         \u001b[39m\"\u001b[39m\u001b[39mUsing `scoped_session` with asyncio is deprecated and \u001b[39m\u001b[39m\"\u001b[39m\n\u001b[1;32m    215\u001b[0m         \u001b[39m\"\u001b[39m\u001b[39mwill raise an error in a future version. \u001b[39m\u001b[39m\"\u001b[39m\n\u001b[1;32m    216\u001b[0m         \u001b[39m\"\u001b[39m\u001b[39mPlease use `async_scoped_session` instead.\u001b[39m\u001b[39m\"\u001b[39m,\n\u001b[1;32m    217\u001b[0m         \u001b[39m\"\u001b[39m\u001b[39m1.4.23\u001b[39m\u001b[39m\"\u001b[39m,\n\u001b[1;32m    218\u001b[0m     )\n",
      "File \u001b[0;32m~/projects/cryptobot/server/venv/lib/python3.9/site-packages/sqlalchemy/util/_collections.py:639\u001b[0m, in \u001b[0;36mScopedRegistry.__call__\u001b[0;34m(self)\u001b[0m\n\u001b[1;32m    638\u001b[0m \u001b[39mdef\u001b[39;00m \u001b[39m__call__\u001b[39m(\u001b[39mself\u001b[39m) \u001b[39m-\u001b[39m\u001b[39m>\u001b[39m _T:\n\u001b[0;32m--> 639\u001b[0m     key \u001b[39m=\u001b[39m \u001b[39mself\u001b[39;49m\u001b[39m.\u001b[39;49mscopefunc()\n\u001b[1;32m    640\u001b[0m     \u001b[39mtry\u001b[39;00m:\n\u001b[1;32m    641\u001b[0m         \u001b[39mreturn\u001b[39;00m \u001b[39mself\u001b[39m\u001b[39m.\u001b[39mregistry[key]  \u001b[39m# type: ignore[no-any-return]\u001b[39;00m\n",
      "File \u001b[0;32m~/projects/cryptobot/server/venv/lib/python3.9/site-packages/flask_sqlalchemy/session.py:102\u001b[0m, in \u001b[0;36m_app_ctx_id\u001b[0;34m()\u001b[0m\n\u001b[1;32m    100\u001b[0m \u001b[39mdef\u001b[39;00m \u001b[39m_app_ctx_id\u001b[39m() \u001b[39m-\u001b[39m\u001b[39m>\u001b[39m \u001b[39mint\u001b[39m:\n\u001b[1;32m    101\u001b[0m \u001b[39m    \u001b[39m\u001b[39m\"\"\"Get the id of the current Flask application context for the session scope.\"\"\"\u001b[39;00m\n\u001b[0;32m--> 102\u001b[0m     \u001b[39mreturn\u001b[39;00m \u001b[39mid\u001b[39m(app_ctx\u001b[39m.\u001b[39;49m_get_current_object())\n",
      "File \u001b[0;32m~/projects/cryptobot/server/venv/lib/python3.9/site-packages/werkzeug/local.py:513\u001b[0m, in \u001b[0;36mLocalProxy.__init__.<locals>._get_current_object\u001b[0;34m()\u001b[0m\n\u001b[1;32m    511\u001b[0m     obj \u001b[39m=\u001b[39m local\u001b[39m.\u001b[39mget()  \u001b[39m# type: ignore[union-attr]\u001b[39;00m\n\u001b[1;32m    512\u001b[0m \u001b[39mexcept\u001b[39;00m \u001b[39mLookupError\u001b[39;00m:\n\u001b[0;32m--> 513\u001b[0m     \u001b[39mraise\u001b[39;00m \u001b[39mRuntimeError\u001b[39;00m(unbound_message) \u001b[39mfrom\u001b[39;00m \u001b[39mNone\u001b[39m\n\u001b[1;32m    515\u001b[0m \u001b[39mreturn\u001b[39;00m get_name(obj)\n",
      "\u001b[0;31mRuntimeError\u001b[0m: Working outside of application context.\n\nThis typically means that you attempted to use functionality that needed\nthe current application. To solve this, set up an application context\nwith app.app_context(). See the documentation for more information."
     ]
    }
   ],
   "source": [
    "import sys\n",
    "sys.path.insert(0,'../../api')\n",
    "\n",
    "from api.exchange import Binance\n",
    "\n",
    "binance = Binance()\n",
    "\n",
    "binance.get_symbol_ticker('BTCUSDT')\n"
   ]
  }
 ],
 "metadata": {
  "kernelspec": {
   "display_name": "mimic-backend",
   "language": "python",
   "name": "mimic-backend"
  },
  "orig_nbformat": 4
 },
 "nbformat": 4,
 "nbformat_minor": 2
}
